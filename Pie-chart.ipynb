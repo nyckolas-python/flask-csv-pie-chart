{
 "cells": [
  {
   "cell_type": "code",
   "execution_count": 18,
   "metadata": {},
   "outputs": [
    {
     "data": {
      "text/plain": [
       "['2020 April',\n",
       " '2020 August',\n",
       " '2020 December',\n",
       " '2020 February',\n",
       " '2020 January',\n",
       " '2020 July',\n",
       " '2020 June',\n",
       " '2020 March',\n",
       " '2020 May',\n",
       " '2020 November',\n",
       " '2020 October',\n",
       " '2020 September']"
      ]
     },
     "execution_count": 18,
     "metadata": {},
     "output_type": "execute_result"
    }
   ],
   "source": [
    "import pandas as pd\n",
    "from datetime import datetime as dt\n",
    "\n",
    "\n",
    "u_path = 'input/test_dataset.csv'\n",
    "df = pd.read_csv(u_path)\n",
    "\n",
    "df.index = pd.to_datetime(df['Date'], format='%Y-%m-%d')\n",
    "\n",
    "agg_func = {'Target': 'sum'}\n",
    "gdf = df.groupby(by=[df.index.month, 'Country']).agg(agg_func).reset_index()\n",
    "\n",
    "gdf2 = df.groupby(by=[pd.Grouper(freq='M'), 'Country']).agg(agg_func).reset_index()\n",
    "\n",
    "set([x.strftime(\"%B %Y\") for x in gdf2.Date])\n",
    "\n",
    "gdf2['Date'] = gdf2['Date'].dt.strftime('%Y %B')\n",
    "\n",
    "df3 = gdf2.groupby(['Date', 'Country']).agg(agg_func)\n",
    "\n",
    "\n",
    "result = {k : g.Target.to_dict() for k, g in gdf2.set_index('Country').groupby('Date')}\n",
    "\n",
    "items = result.values()\n",
    "\n",
    "items\n",
    "\n",
    "list(result.keys())\n",
    "\n",
    "merged_dict = {}\n",
    "\n",
    "def update_dict(result):\n",
    "\tfor k,_ in result.items():\n",
    "\t\ta = {'Period': k}\n",
    "\t\tmerged_dict = {**a, **result[k]}\n",
    "\t\tresult[k] = merged_dict\n",
    "\t\treturn result\n",
    "# update_dict(result)\n",
    "list(result.keys())"
   ]
  },
  {
   "cell_type": "code",
   "execution_count": 19,
   "metadata": {},
   "outputs": [
    {
     "data": {
      "text/plain": [
       "{'2020 April': {'Brazil': 9210.759561909837,\n",
       "  'China': 4484.621844565619,\n",
       "  'Germany': 7291.233919148555,\n",
       "  'USA': 13381.399974206945},\n",
       " '2020 August': {'Brazil': 10431.757870868654,\n",
       "  'China': 4026.082343348445,\n",
       "  'Germany': 7566.925074768644,\n",
       "  'USA': 13063.734125631063},\n",
       " '2020 December': {'Brazil': 9589.88559182234,\n",
       "  'China': 4775.708998666334,\n",
       "  'Germany': 7420.605524674728,\n",
       "  'USA': 14286.867549018592},\n",
       " '2020 February': {'Brazil': 8375.446994927108,\n",
       "  'China': 4336.877200270819,\n",
       "  'Germany': 6452.994671270694,\n",
       "  'USA': 13631.407837965877},\n",
       " '2020 January': {'Brazil': 10141.217102058952,\n",
       "  'China': 5781.860277616138,\n",
       "  'Germany': 7520.266506789016,\n",
       "  'USA': 13988.755832295019},\n",
       " '2020 July': {'Brazil': 9091.047266253332,\n",
       "  'China': 4793.132177981271,\n",
       "  'Germany': 6735.685840381856,\n",
       "  'USA': 14381.734875681459},\n",
       " '2020 June': {'Brazil': 9520.792043000762,\n",
       "  'China': 4486.076378001224,\n",
       "  'Germany': 7923.1150637155515,\n",
       "  'USA': 14508.114628765183},\n",
       " '2020 March': {'Brazil': 8750.264438553857,\n",
       "  'China': 4778.85079083015,\n",
       "  'Germany': 6752.958573532275,\n",
       "  'USA': 13779.593456705765},\n",
       " '2020 May': {'Brazil': 9897.403409748309,\n",
       "  'China': 4220.649961847738,\n",
       "  'Germany': 7640.968316912251,\n",
       "  'USA': 11127.581648350715},\n",
       " '2020 November': {'Brazil': 8763.234062965661,\n",
       "  'China': 4558.878077792435,\n",
       "  'Germany': 7446.236854247683,\n",
       "  'USA': 11637.230566807133},\n",
       " '2020 October': {'Brazil': 8204.144674424246,\n",
       "  'China': 4792.79797545842,\n",
       "  'Germany': 7470.540572893361,\n",
       "  'USA': 12012.055282231804},\n",
       " '2020 September': {'Brazil': 8277.87476285389,\n",
       "  'China': 4046.3825290824366,\n",
       "  'Germany': 5564.126584586989,\n",
       "  'USA': 13648.50802445184}}"
      ]
     },
     "execution_count": 19,
     "metadata": {},
     "output_type": "execute_result"
    }
   ],
   "source": [
    "u_path = 'input/test_dataset.csv'\n",
    "df = pd.read_csv(u_path)\n",
    "\n",
    "df.index = pd.to_datetime(df['Date'], format='%Y-%m-%d')\n",
    "\n",
    "agg_func = {'Target': 'sum'}\n",
    "\n",
    "gdf2 = df.groupby(by=[pd.Grouper(freq='M'), 'Country']).agg(agg_func).reset_index()\n",
    "gdf2['Date'] = gdf2['Date'].dt.strftime('%Y %B')\n",
    "\n",
    "\n",
    "result = {k : g.Target.to_dict() for k, g in gdf2.set_index('Country').groupby('Date')}\n",
    "\n",
    "result\n",
    "\n"
   ]
  },
  {
   "cell_type": "code",
   "execution_count": 20,
   "metadata": {},
   "outputs": [
    {
     "data": {
      "text/plain": [
       "{'2020 April': 34368.01529983096,\n",
       " '2020 August': 35088.4994146168,\n",
       " '2020 December': 36073.067664181995,\n",
       " '2020 February': 32796.7267044345,\n",
       " '2020 January': 37432.09971875913,\n",
       " '2020 July': 35001.600160297916,\n",
       " '2020 June': 36438.098113482716,\n",
       " '2020 March': 34061.667259622045,\n",
       " '2020 May': 32886.603336859014,\n",
       " '2020 November': 32405.579561812912,\n",
       " '2020 October': 32479.538505007833,\n",
       " '2020 September': 31536.891900975155}"
      ]
     },
     "execution_count": 20,
     "metadata": {},
     "output_type": "execute_result"
    }
   ],
   "source": [
    "dfc = gdf2.groupby(by=['Date']).agg(agg_func).reset_index()\n",
    "dfc.set_index('Date').to_dict().get('Target')"
   ]
  },
  {
   "cell_type": "code",
   "execution_count": 27,
   "metadata": {},
   "outputs": [
    {
     "data": {
      "text/plain": [
       "{'January 2020': 37432.09971875913,\n",
       " 'February 2020': 32796.7267044345,\n",
       " 'March 2020': 34061.667259622045,\n",
       " 'April 2020': 34368.01529983096,\n",
       " 'May 2020': 32886.603336859014,\n",
       " 'June 2020': 36438.098113482716,\n",
       " 'July 2020': 35001.600160297916,\n",
       " 'August 2020': 35088.4994146168,\n",
       " 'September 2020': 31536.891900975155,\n",
       " 'October 2020': 32479.538505007833,\n",
       " 'November 2020': 32405.579561812912,\n",
       " 'December 2020': 36073.067664181995}"
      ]
     },
     "execution_count": 27,
     "metadata": {},
     "output_type": "execute_result"
    }
   ],
   "source": [
    "df = pd.read_csv(u_path)\n",
    "df.index = pd.to_datetime(df['Date'], format='%Y-%m-%d')\n",
    "df = df.groupby(by=[pd.Grouper(freq='M'), 'Country']).agg({'Target': 'sum'}).reset_index()\n",
    "df.sort_values(by='Date', inplace=True)\n",
    "\n",
    "# df['Date'] = df['Date'].dt.strftime('%B %Y')\n",
    "result = {dt.strftime(k,'%B %Y') : g.Target.to_dict() for k, g in df.set_index('Country').groupby('Date')}\n",
    "dfc = df.groupby(by=['Date']).agg({'Target': 'sum'}).reset_index()\n",
    "dfc = dfc.set_index('Date').to_dict().get('Target')\n",
    "result2 = {dt.strftime(k,'%B %Y') : v for k,v in dfc.items()}\n",
    "result2"
   ]
  },
  {
   "cell_type": "code",
   "execution_count": 29,
   "metadata": {},
   "outputs": [
    {
     "data": {
      "text/plain": [
       "{'January 2020': {'Brazil': 10141.217102058952,\n",
       "  'China': 5781.860277616138,\n",
       "  'Germany': 7520.266506789016,\n",
       "  'USA': 13988.755832295019},\n",
       " 'February 2020': {'Brazil': 8375.446994927108,\n",
       "  'China': 4336.877200270819,\n",
       "  'Germany': 6452.994671270694,\n",
       "  'USA': 13631.407837965877},\n",
       " 'March 2020': {'USA': 13779.593456705765,\n",
       "  'Germany': 6752.958573532275,\n",
       "  'Brazil': 8750.264438553857,\n",
       "  'China': 4778.85079083015},\n",
       " 'April 2020': {'Brazil': 9210.759561909837,\n",
       "  'China': 4484.621844565619,\n",
       "  'Germany': 7291.233919148555,\n",
       "  'USA': 13381.399974206945},\n",
       " 'May 2020': {'USA': 11127.581648350715,\n",
       "  'Brazil': 9897.403409748309,\n",
       "  'China': 4220.649961847738,\n",
       "  'Germany': 7640.968316912251},\n",
       " 'June 2020': {'Germany': 7923.1150637155515,\n",
       "  'USA': 14508.114628765183,\n",
       "  'Brazil': 9520.792043000762,\n",
       "  'China': 4486.076378001224},\n",
       " 'July 2020': {'Brazil': 9091.047266253332,\n",
       "  'China': 4793.132177981271,\n",
       "  'Germany': 6735.685840381856,\n",
       "  'USA': 14381.734875681459},\n",
       " 'August 2020': {'Brazil': 10431.757870868654,\n",
       "  'China': 4026.082343348445,\n",
       "  'Germany': 7566.925074768644,\n",
       "  'USA': 13063.734125631063},\n",
       " 'September 2020': {'USA': 13648.50802445184,\n",
       "  'Germany': 5564.126584586989,\n",
       "  'Brazil': 8277.87476285389,\n",
       "  'China': 4046.3825290824366},\n",
       " 'October 2020': {'Brazil': 8204.144674424246,\n",
       "  'China': 4792.79797545842,\n",
       "  'Germany': 7470.540572893361,\n",
       "  'USA': 12012.055282231804},\n",
       " 'November 2020': {'Brazil': 8763.234062965661,\n",
       "  'China': 4558.878077792435,\n",
       "  'Germany': 7446.236854247683,\n",
       "  'USA': 11637.230566807133},\n",
       " 'December 2020': {'Germany': 7420.605524674728,\n",
       "  'Brazil': 9589.88559182234,\n",
       "  'China': 4775.708998666334,\n",
       "  'USA': 14286.867549018592}}"
      ]
     },
     "execution_count": 29,
     "metadata": {},
     "output_type": "execute_result"
    }
   ],
   "source": [
    "df = pd.read_csv(u_path)\n",
    "df.index = pd.to_datetime(df['Date'], format='%Y-%m-%d')\n",
    "df = df.groupby(by=[pd.Grouper(freq='M'), 'Country']).agg({'Target': 'sum'}).reset_index()\n",
    "df.sort_values(by='Date', inplace=True)\n",
    "data_set = {dt.strftime(k,'%B %Y') : g.Target.to_dict() for k, g in df.set_index('Country').groupby('Date')}\n",
    "\n",
    "data_set"
   ]
  }
 ],
 "metadata": {
  "kernelspec": {
   "display_name": "Python 3.8.10 64-bit",
   "language": "python",
   "name": "python3"
  },
  "language_info": {
   "codemirror_mode": {
    "name": "ipython",
    "version": 3
   },
   "file_extension": ".py",
   "mimetype": "text/x-python",
   "name": "python",
   "nbconvert_exporter": "python",
   "pygments_lexer": "ipython3",
   "version": "3.8.10"
  },
  "orig_nbformat": 4,
  "vscode": {
   "interpreter": {
    "hash": "916dbcbb3f70747c44a77c7bcd40155683ae19c65e1c03b4aa3499c5328201f1"
   }
  }
 },
 "nbformat": 4,
 "nbformat_minor": 2
}
